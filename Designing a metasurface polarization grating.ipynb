{
 "cells": [
  {
   "cell_type": "markdown",
   "metadata": {},
   "source": [
    "In this notebook I will demonstrate how to design a metasurface polarization grating and write it out as a CAD file (.gds) based on a pre-compiled library of metasurface unit elements. First, we import the relevant code which has to be in the same directory as your code or added to your Python path."
   ]
  },
  {
   "cell_type": "code",
   "execution_count": 1,
   "metadata": {},
   "outputs": [],
   "source": [
    "import numpy as np\n",
    "import matplotlib.pyplot as plt\n",
    "import Core.polarization_gratings as pg"
   ]
  },
  {
   "cell_type": "markdown",
   "metadata": {},
   "source": [
    "### Declaring the number of structures and instantiating the grating object."
   ]
  },
  {
   "cell_type": "markdown",
   "metadata": {},
   "source": [
    "The first step in designing the grating is to decide how many \"pillar\" elements will comprise the unit cell of the metasurface diffraction grating along the $x$ and $y$ directions, denoted $N_x$ and $N_y$. This decision is informed by what should be the angular separation of the diffraction orders along the $x$ and $y$ directions. In particular, we will have\n",
    "\n",
    "\n",
    "$$\n",
    "\\theta_x = \\arcsin\\frac{\\lambda_0}{N_x d_x}\n",
    "$$\n",
    "\n",
    "and\n",
    "\n",
    "$$\n",
    "\\theta_y = \\arcsin\\frac{\\lambda_0}{N_y d_y}\n",
    "$$\n",
    "\n",
    "where $\\lambda_0$ is the free-space operating wavelength and $d_x$ and $d_y$ are the spacings between pillars along the $x$ and $y$ directions. These choices will be informed by design.\n",
    "\n",
    "In what follows, we will just assume that $N_x=N_y=11$. Based on this choice, we instantiate a <code>grating</code> object."
   ]
  },
  {
   "cell_type": "code",
   "execution_count": 2,
   "metadata": {},
   "outputs": [],
   "source": [
    "Nx, Ny = 11, 11\n",
    "\n",
    "grating = pg.MetasurfaceGratingUnitCell(Nx, Ny)"
   ]
  },
  {
   "cell_type": "markdown",
   "metadata": {},
   "source": [
    "### Define the set of desired orders and for which polarization states they should analyze"
   ]
  },
  {
   "cell_type": "markdown",
   "metadata": {},
   "source": [
    "Next, we declare the set of diffraction orders we are interested in; we declare these as a list of grating orders denoted by their indices $(m,n)$ numbered from the zero order of the diffraction grating.\n",
    "\n",
    "Next, we define the polarization states for which these diffraction orders should act as analyzers. We declare these polarization states as Jones vectors and correspond in order to the diffraction orders declared in <code>orders</code>. For instance, the order (0, -1) here will be optimized in what follows to serve as a polarizer that prefers the state with a Jones vector given by <code>[1/np.sqrt(2),1j*1/np.sqrt(2)]</code> (circular polarization)."
   ]
  },
  {
   "cell_type": "code",
   "execution_count": 3,
   "metadata": {},
   "outputs": [],
   "source": [
    "orders = [(1, 0), (-1, 0), (0, 1), (0, -1)] # set of diffraction orders of interest; innermost four orders in this case\n",
    "# Jones vectors of states these should analyze\n",
    "# These match the tetrahedron set from the paper, with the last one circular\n",
    "polarizations =  np.array([ [0.514099,0.794104 -0.324192*1j],\\\n",
    "                           [0.985599, -0.169102*1j],\\\n",
    "                           [0.514099, -0.794104 -0.324192*1j] ,\\\n",
    "                           [1/np.sqrt(2),1j*1/np.sqrt(2)]] , dtype=complex)"
   ]
  },
  {
   "cell_type": "markdown",
   "metadata": {},
   "source": [
    "### Compute the weight matrices"
   ]
  },
  {
   "cell_type": "markdown",
   "metadata": {},
   "source": [
    "Rather than using an FFT, the code computes the Jones matrix-valued Fourier transforms analytically; this is sped up internally by computing what I call the \"weight matrices\" for the diffraction orders of interest ahead-of-time. You don't need to worry about this very much but it has to be done once."
   ]
  },
  {
   "cell_type": "code",
   "execution_count": 4,
   "metadata": {},
   "outputs": [],
   "source": [
    "weight_matrices = grating.compute_weight_matrices(orders)"
   ]
  },
  {
   "cell_type": "markdown",
   "metadata": {},
   "source": [
    "### Define the merit function and constraints"
   ]
  },
  {
   "cell_type": "markdown",
   "metadata": {},
   "source": [
    "The code as-written is completely general - we could optimize almost anything about the grating under any constraints, so long as we can define these as simple functions of the <code>state_vec</code> which contains all of the phase shifts $\\phi_x$, $\\phi_y$ and orientations $\\theta$ for each pillar in the $N_x\\times N_y$ grid.\n",
    "\n",
    "The merit function <code>power_merit_function</code> defined below matches what was done in the paper - specifically, it optimizes the power in the orders of interest (averaged over all possible incident polarization states, i.e., the power in the desired orders for unpolarized incident light). The constraints defined here are also the same used in the paper. The constraint defined by <code>no_variability_constraint</code> attempts to enforce our desire that the average power of the orders should be identical (their standard deviation should be 0). The second constraint <code>contrast_constraint</code> is the workhorse that makes the grating do what we want - in it, we are coaxing the contrast or diattenuation of the diffraction orders to be as close to 1 as possible for the polarizations we specified.\n",
    "\n",
    "This is how it was done in the *Science* paper but the code is general; many different combinations of merit functions and constraints could be tried."
   ]
  },
  {
   "cell_type": "code",
   "execution_count": 5,
   "metadata": {},
   "outputs": [],
   "source": [
    "# negative sign because optimizer minimizes\n",
    "def power_merit_function(state_vec):\n",
    "    return -np.sum(grating.power_in_orders_fast(orders, weight_matrices, state_vec))\n",
    "\n",
    "# compute the standard deviation of the expected power in the orders of interest\n",
    "def no_variability_constraint(state_vec):\n",
    "    return np.std(grating.power_in_orders_fast(orders, weight_matrices, state_vec))\n",
    "\n",
    "# compute the mean of the contrast in each order, minus 1\n",
    "def contrast_constraint(state_vec):\n",
    "    return (np.mean(grating.order_contrasts_fast(orders, polarizations, weight_matrices, state_vec)) - 1)\n",
    "\n",
    "merit_func = power_merit_function # we use minimize, not maximize\n",
    "cons = [no_variability_constraint, contrast_constraint] # list of constraints\n",
    "\n",
    "# internally, my code is using scipy.minimize\n",
    "# we have to declare constraints as equality or inequality constraints\n",
    "# these are equality constraints, they should equal 0\n",
    "cons_type = ['eq', 'eq']"
   ]
  },
  {
   "cell_type": "markdown",
   "metadata": {},
   "source": [
    "### Run the optimization"
   ]
  },
  {
   "cell_type": "markdown",
   "metadata": {},
   "source": [
    "Now, we are ready to optimize the parameters of the grating to design our polarization grating. We call the grating object's internal <code>optimize</code> command and pass in the constraints. The <code>tolerance</code> argument gives the residual of the merit function at which the optimization stops. Start with large tolerances and decrease and re-optimize. You can run the code many times with different tolerance values without overwriting anything - the grating object is storing the entire history of all optimization done on it, so if you optimize it again it starts where it left off from the previous optimization. When called initially, the <code>grating</code> object stores a random initial condition from which the optimization begins.\n",
    "\n",
    "The merit function being displayed in this case is the power in the orders of interest divided by the power in all transmitted orders."
   ]
  },
  {
   "cell_type": "code",
   "execution_count": 6,
   "metadata": {},
   "outputs": [
    {
     "name": "stdout",
     "output_type": "stream",
     "text": [
      "Iteration:  1  - Merit = 0.05565965457865001\n",
      "Iteration:  2  - Merit = 0.09383886810511806\n",
      "Iteration:  3  - Merit = 0.11093629722232456\n",
      "Iteration:  4  - Merit = 0.12107452403100064\n",
      "Iteration:  5  - Merit = 0.13145491799477343\n",
      "Iteration:  6  - Merit = 0.143768340740982\n",
      "Iteration:  7  - Merit = 0.14766223904719938\n",
      "Iteration:  8  - Merit = 0.14870826234223064\n",
      "Iteration:  9  - Merit = 0.1498004317161855\n",
      "Iteration:  10  - Merit = 0.15184803755838028\n",
      "Iteration:  11  - Merit = 0.15455594773449083\n",
      "Iteration:  12  - Merit = 0.157816717613765\n",
      "Iteration:  13  - Merit = 0.15948631928757004\n",
      "Iteration:  14  - Merit = 0.16100578058582918\n",
      "Iteration:  15  - Merit = 0.16428067489126794\n",
      "Iteration:  16  - Merit = 0.16742010110969835\n",
      "Iteration:  17  - Merit = 0.17589414700599862\n",
      "Iteration:  18  - Merit = 0.19664092143509743\n",
      "Iteration:  19  - Merit = 0.2294366100382858\n",
      "Iteration:  20  - Merit = 0.29555179577680324\n",
      "Iteration:  21  - Merit = 0.26966969064512814\n",
      "Iteration:  22  - Merit = 0.32694574094481255\n",
      "Iteration:  23  - Merit = 0.31658849290304025\n",
      "Iteration:  24  - Merit = 0.3264289079150629\n",
      "Iteration:  25  - Merit = 0.34826360517136057\n",
      "Iteration:  26  - Merit = 0.3513297087228745\n",
      "Iteration:  27  - Merit = 0.3668044234088458\n",
      "Iteration:  28  - Merit = 0.3778882149596975\n",
      "Iteration:  29  - Merit = 0.37981482334291733\n",
      "Iteration:  30  - Merit = 0.39555320470680827\n",
      "Iteration:  31  - Merit = 0.4133120851271611\n",
      "Iteration:  32  - Merit = 0.4297417477157598\n",
      "Iteration:  33  - Merit = 0.43745876091818126\n",
      "Iteration:  34  - Merit = 0.4495648750897405\n",
      "Iteration:  35  - Merit = 0.4634544568669161\n",
      "Iteration:  36  - Merit = 0.470975497585739\n",
      "Iteration:  37  - Merit = 0.49630882048586616\n",
      "Iteration:  38  - Merit = 0.5102603946598452\n",
      "Iteration:  39  - Merit = 0.5195365074545806\n",
      "Iteration:  40  - Merit = 0.5218577351666003\n",
      "Iteration:  41  - Merit = 0.5292672285889848\n",
      "Iteration:  42  - Merit = 0.5381689720699745\n",
      "Iteration:  43  - Merit = 0.542127534581597\n",
      "Iteration:  44  - Merit = 0.5506342417625898\n",
      "Iteration:  45  - Merit = 0.5651182864927824\n",
      "Iteration:  46  - Merit = 0.5810244796779827\n",
      "Iteration:  47  - Merit = 0.5942665363263664\n",
      "Iteration:  48  - Merit = 0.6100609295647298\n",
      "Iteration:  49  - Merit = 0.6113671588647185\n",
      "Iteration:  50  - Merit = 0.6163197406974585\n",
      "Iteration:  51  - Merit = 0.6197948989609836\n",
      "Iteration:  52  - Merit = 0.6232094740581005\n",
      "Iteration:  53  - Merit = 0.6279642100631135\n",
      "Iteration:  54  - Merit = 0.6348634883877543\n",
      "Iteration:  55  - Merit = 0.6409061777426903\n",
      "Iteration:  56  - Merit = 0.6473158507242772\n",
      "Iteration:  57  - Merit = 0.6557927137809967\n",
      "Iteration:  58  - Merit = 0.6625771540243143\n",
      "Iteration:  59  - Merit = 0.666112423522188\n",
      "Iteration:  60  - Merit = 0.6677339031852245\n",
      "Iteration:  61  - Merit = 0.6700931208489032\n",
      "Iteration:  62  - Merit = 0.6740545516399559\n",
      "Iteration:  63  - Merit = 0.6811122457250183\n",
      "Iteration:  64  - Merit = 0.6852131821367219\n",
      "Iteration:  65  - Merit = 0.6938602501962287\n",
      "Iteration:  66  - Merit = 0.7055429239406052\n",
      "Iteration:  67  - Merit = 0.7054084758814384\n",
      "Iteration:  68  - Merit = 0.7116972801882196\n",
      "Iteration:  69  - Merit = 0.7183977823845498\n",
      "Iteration:  70  - Merit = 0.7228332725949529\n",
      "Iteration:  71  - Merit = 0.7265898457051585\n",
      "Iteration:  72  - Merit = 0.7311233523362846\n",
      "Iteration:  73  - Merit = 0.7355065184266573\n",
      "Iteration:  74  - Merit = 0.7409022108160519\n",
      "Iteration:  75  - Merit = 0.7447771459001464\n",
      "Iteration:  76  - Merit = 0.7468559816966505\n",
      "Iteration:  77  - Merit = 0.749121690937004\n",
      "Iteration:  78  - Merit = 0.7500775719415027\n",
      "Iteration:  79  - Merit = 0.7515117680937056\n",
      "Iteration:  80  - Merit = 0.7544152818921138\n",
      "Iteration:  81  - Merit = 0.759247592755755\n",
      "Iteration:  82  - Merit = 0.7610001436940033\n",
      "Iteration:  83  - Merit = 0.7624229167801427\n",
      "Iteration:  84  - Merit = 0.7669077646976185\n",
      "Iteration:  85  - Merit = 0.7700558096890227\n",
      "Iteration:  86  - Merit = 0.7716163554376347\n",
      "Iteration:  87  - Merit = 0.7733336720137737\n",
      "Iteration:  88  - Merit = 0.7750918120876191\n",
      "Iteration:  89  - Merit = 0.7765176006420332\n",
      "Iteration:  90  - Merit = 0.7791382018966874\n",
      "Iteration:  91  - Merit = 0.7818586398590285\n",
      "Iteration:  92  - Merit = 0.7849256369797492\n",
      "Iteration:  93  - Merit = 0.7887611930743923\n",
      "Iteration:  94  - Merit = 0.790448731808403\n",
      "Iteration:  95  - Merit = 0.7920844430120199\n",
      "Iteration:  96  - Merit = 0.7937732982422758\n",
      "Iteration:  97  - Merit = 0.7942994409369023\n",
      "Iteration:  98  - Merit = 0.7949179946823792\n",
      "Iteration:  99  - Merit = 0.7963328886767221\n",
      "Iteration:  100  - Merit = 0.7975416782547137\n",
      "Iteration:  101  - Merit = 0.7991668059385006\n",
      "Iteration:  102  - Merit = 0.8005023249829999\n",
      "Iteration:  103  - Merit = 0.8014299093398087\n",
      "Iteration:  104  - Merit = 0.8026076498691099\n",
      "Iteration:  105  - Merit = 0.8040674536646997\n",
      "Iteration:  106  - Merit = 0.8060909843822142\n",
      "Iteration:  107  - Merit = 0.8070663941649905\n",
      "Iteration:  108  - Merit = 0.8079447949316331\n",
      "Iteration:  109  - Merit = 0.8087835832664048\n",
      "Iteration:  110  - Merit = 0.8094989198304321\n",
      "Iteration:  111  - Merit = 0.8100471023310158\n",
      "Iteration:  112  - Merit = 0.8107929367850814\n",
      "Iteration:  113  - Merit = 0.8123274032546322\n",
      "Iteration:  114  - Merit = 0.8129044953392486\n",
      "Iteration:  115  - Merit = 0.8144392756657375\n",
      "Iteration:  116  - Merit = 0.8150884551067203\n",
      "Iteration:  117  - Merit = 0.8160508173508569\n",
      "Iteration:  118  - Merit = 0.8168475841848357\n",
      "Iteration:  119  - Merit = 0.8173328747316713\n",
      "Iteration:  120  - Merit = 0.8178335143374618\n",
      "Iteration:  121  - Merit = 0.8189141095002216\n",
      "Iteration:  122  - Merit = 0.8190182005932046\n",
      "Iteration:  123  - Merit = 0.8195930388277475\n",
      "Iteration:  124  - Merit = 0.8205056790603231\n",
      "Iteration:  125  - Merit = 0.820677131501437\n",
      "Iteration:  126  - Merit = 0.8210670236298528\n",
      "Iteration:  127  - Merit = 0.8217280972451791\n",
      "Iteration:  128  - Merit = 0.8221847632284203\n",
      "Iteration:  129  - Merit = 0.8231421090042079\n",
      "Iteration:  130  - Merit = 0.8237623393784319\n",
      "Iteration:  131  - Merit = 0.8242044914209494\n",
      "Iteration:  132  - Merit = 0.8243440959811156\n",
      "Iteration:  133  - Merit = 0.8245925861894134\n",
      "Iteration:  134  - Merit = 0.8247984939202282\n",
      "Iteration:  135  - Merit = 0.8249685200133399\n",
      "Iteration:  136  - Merit = 0.8253174412391182\n",
      "Iteration:  137  - Merit = 0.8254975934987663\n",
      "Iteration:  138  - Merit = 0.8257752286234737\n",
      "Iteration:  139  - Merit = 0.8262830330284696\n",
      "Iteration:  140  - Merit = 0.8264275668967036\n",
      "Iteration:  141  - Merit = 0.8266099054448481\n",
      "Iteration:  142  - Merit = 0.8269749213459594\n",
      "Iteration:  143  - Merit = 0.8271421538573553\n",
      "Iteration:  144  - Merit = 0.8272556477384249\n",
      "Iteration:  145  - Merit = 0.8274011381969755\n",
      "Iteration:  146  - Merit = 0.827456402152571\n",
      "Iteration:  147  - Merit = 0.8275524387909469\n",
      "Iteration:  148  - Merit = 0.8276583234533473\n",
      "Iteration:  149  - Merit = 0.8277930796616502\n",
      "Iteration:  150  - Merit = 0.8279205561524207\n",
      "Iteration:  151  - Merit = 0.8280979244616085\n",
      "Iteration:  152  - Merit = 0.8282968292134827\n",
      "Iteration:  153  - Merit = 0.8283986763617256\n",
      "Iteration:  154  - Merit = 0.8285244827584382\n",
      "Iteration:  155  - Merit = 0.8286380101748241\n",
      "Iteration:  156  - Merit = 0.8287253732265137\n",
      "Iteration:  157  - Merit = 0.8288114808605352\n",
      "Iteration:  158  - Merit = 0.8288719307603478\n",
      "Iteration:  159  - Merit = 0.8289262295151479\n",
      "Iteration:  160  - Merit = 0.8290015524697754\n",
      "Iteration:  161  - Merit = 0.8290466273084847\n",
      "Iteration:  162  - Merit = 0.8290982360405228\n",
      "Iteration:  163  - Merit = 0.8292161251456434\n",
      "Iteration:  164  - Merit = 0.8293998387317566\n",
      "Iteration:  165  - Merit = 0.8296170742240411\n",
      "Iteration:  166  - Merit = 0.8297711676891459\n",
      "Iteration:  167  - Merit = 0.8298412482171148\n",
      "Iteration:  168  - Merit = 0.829884932939909\n",
      "Iteration:  169  - Merit = 0.8299333481873277\n",
      "Iteration:  170  - Merit = 0.82998042511948\n",
      "Iteration:  171  - Merit = 0.8300165389770986\n",
      "Iteration:  172  - Merit = 0.8300604873913775\n",
      "Iteration:  173  - Merit = 0.8301186432662873\n",
      "Iteration:  174  - Merit = 0.830212959972317\n",
      "Iteration:  175  - Merit = 0.8303259849622366\n",
      "Iteration:  176  - Merit = 0.8304023224880193\n",
      "Iteration:  177  - Merit = 0.8305014748066649\n",
      "Iteration:  178  - Merit = 0.830501201878012\n",
      "Iteration:  179  - Merit = 0.8305370909364017\n",
      "Iteration:  180  - Merit = 0.8305584733936795\n",
      "Iteration:  181  - Merit = 0.8305642693967297\n",
      "Optimization terminated successfully    (Exit mode 0)\n",
      "            Current function value: -0.8305642693967297\n",
      "            Iterations: 181\n",
      "            Function evaluations: 65900\n",
      "            Gradient evaluations: 181\n"
     ]
    }
   ],
   "source": [
    "output_power = grating.optimize(merit_func, cons, cons_type, tolerance=0.0001)"
   ]
  },
  {
   "cell_type": "markdown",
   "metadata": {},
   "source": [
    "### Saving the grating"
   ]
  },
  {
   "cell_type": "markdown",
   "metadata": {},
   "source": [
    "There is a built-in save method; it saves two files: a file containing the grating object and a second for its history. There is also a built-in <code>load</code> command to load that same two files later into a <code>grating</code> object later to continue working with it."
   ]
  },
  {
   "cell_type": "code",
   "execution_count": 7,
   "metadata": {},
   "outputs": [],
   "source": [
    "grating.save('Grating Designs/eleven_element_grating_test.npz')\n",
    "\n",
    "# this would be the command to load a previously saved grating into the grating object\n",
    "# grating.load('Grating Designs/eleven_element_grating_test.npz')"
   ]
  },
  {
   "cell_type": "markdown",
   "metadata": {},
   "source": [
    "### Analyzing our optimized result"
   ]
  },
  {
   "cell_type": "markdown",
   "metadata": {},
   "source": [
    "We can analyze the optimized result to see the power numerically predicted by the Fourier optics model in all of the diffraction orders."
   ]
  },
  {
   "cell_type": "code",
   "execution_count": 8,
   "metadata": {},
   "outputs": [
    {
     "data": {
      "text/plain": [
       "Text(0, 0.5, 'n')"
      ]
     },
     "execution_count": 8,
     "metadata": {},
     "output_type": "execute_result"
    },
    {
     "data": {
      "image/png": "[encoded data removed]",
      "text/plain": [
       "<Figure size 432x288 with 2 Axes>"
      ]
     },
     "metadata": {
      "needs_background": "light"
     },
     "output_type": "display_data"
    }
   ],
   "source": [
    "# extract the final parameters\n",
    "phi_x, phi_y, theta = grating.phi_x, grating.phi_y, grating.theta\n",
    "\n",
    "# pack these into a final 'state vector'\n",
    "final_state = grating.pack(phi_x, phi_y, theta)\n",
    "\n",
    "# decide how many orders to plot\n",
    "Nx_plotting, Ny_plotting = 4, 4\n",
    "\n",
    "# instantiate empty arrays of complex numbers\n",
    "Js = np.zeros([2*Nx_plotting+1, 2*Ny_plotting+1, 2, 2], dtype=complex)\n",
    "pwr = np.zeros([2*Nx_plotting+1, 2*Ny_plotting+1], dtype=complex)\n",
    "\n",
    "# get list of orders\n",
    "orders_x = np.arange(-Nx_plotting, +Nx_plotting+1)\n",
    "orders_y = np.arange(-Ny_plotting, +Ny_plotting+1)\n",
    "\n",
    "# iterate over orders and compute power\n",
    "for i in range(len(orders_x)):\n",
    "    for j in range(len(orders_y)):\n",
    "        m, n = orders_x[i], orders_y[j]\n",
    "        weight_matrix = grating.calculate_weight_matrix(m,n)\n",
    "        J = grating.calculate_Jmn_fast(m,n,weight_matrix,final_state) # find Jones matrix of diffraction order\n",
    "        Js[i,j,:,:] = J\n",
    "        pwr[i,j] = 0.5 * np.trace(np.conj(J).T @ J) # average power is 0.5 * (J^dagger J)\n",
    "\n",
    "# plot the result\n",
    "M, N = np.meshgrid(orders_x, orders_y)    \n",
    "plt.pcolormesh(M, N, np.abs(pwr), shading='auto')\n",
    "plt.colorbar()\n",
    "plt.title('Relative (unpolarized) power of orders')\n",
    "plt.xlabel('m')\n",
    "plt.ylabel('n')"
   ]
  },
  {
   "cell_type": "markdown",
   "metadata": {},
   "source": [
    "We can use this same information to view the map of order powers when the different preferred polarization states are incident, demonstrating the designed polarization selectivity of the diffraction orders as in Fig. 11 of the supplemental information."
   ]
  },
  {
   "cell_type": "code",
   "execution_count": 9,
   "metadata": {},
   "outputs": [
    {
     "data": {
      "image/png": "[encoded data removed]",
      "text/plain": [
       "<Figure size 432x288 with 4 Axes>"
      ]
     },
     "metadata": {
      "needs_background": "light"
     },
     "output_type": "display_data"
    }
   ],
   "source": [
    "size = Js.shape\n",
    "output_powers = np.zeros([size[0], size[1], len(polarizations)]) # array to store output powers\n",
    "\n",
    "# for each designed polarization state\n",
    "for polarization, i in zip(polarizations, range(len(polarizations))):\n",
    "    output_pol = Js@polarization # find the output Jones vector on each order using Jones matrices computed above\n",
    "    output_powers[:, :, i] = np.linalg.norm(output_pol, axis=2)**2 # compute the intensity on each order\n",
    "\n",
    "# plot the results\n",
    "fig, axs = plt.subplots(1, len(polarizations))\n",
    "for i in range(len(polarizations)):\n",
    "    ax = axs[i]\n",
    "    ax.pcolormesh(M, N, output_powers[:, :, i], shading='auto')\n",
    "    ax.set_title('State ' + str(i+1))\n",
    "    ax.set_xlabel('m')\n",
    "    ax.set_ylabel('n')\n",
    "    ax.set_aspect('equal')\n",
    "    ax.set_xticklabels([])\n",
    "    ax.set_yticklabels([])\n",
    "    \n",
    "fig.tight_layout()"
   ]
  },
  {
   "cell_type": "markdown",
   "metadata": {},
   "source": [
    "We can also compare the polarization ellipses realized numerically in the optimization to those desired at the outset. The top row are the desired ellipses and the bottom row are the ones that are predicted by the Jones matrix Fourier optics formalism.\n",
    "\n",
    "To do this we use some helpful polarization functions provided."
   ]
  },
  {
   "cell_type": "code",
   "execution_count": 10,
   "metadata": {},
   "outputs": [
    {
     "data": {
      "text/plain": [
       "Text(0.5, 0.98, 'Desired (top) vs. realized (bottom) polarization analyzer states')"
      ]
     },
     "execution_count": 10,
     "metadata": {},
     "output_type": "execute_result"
    },
    {
     "data": {
      "image/png": "[encoded data removed]",
      "text/plain": [
       "<Figure size 432x288 with 8 Axes>"
      ]
     },
     "metadata": {
      "needs_background": "light"
     },
     "output_type": "display_data"
    }
   ],
   "source": [
    "import Core.helpful_polarization_functions as pol\n",
    "\n",
    "desired_polarizations = [pol.jones_to_stokes(jones) for jones in polarizations]\n",
    "\n",
    "jones_matrices = np.zeros([len(orders), 2, 2], dtype=complex)\n",
    "\n",
    "for i, order in zip(range(len(orders)), orders):\n",
    "    m, n = order\n",
    "    weight_matrix = grating.calculate_weight_matrix(m,n)\n",
    "    J = grating.calculate_Jmn_fast(m,n,weight_matrix,final_state) # find Jones matrix of diffraction order\n",
    "    jones_matrices[i, :, :] = J\n",
    "    \n",
    "mueller_matrices = [pol.jones_mueller(jones_matrix) for jones_matrix in jones_matrices]\n",
    "realized_analyzer_states = [pol.stokes_to_jones(mueller_matrix[0, 1:]) for mueller_matrix in mueller_matrices]\n",
    "\n",
    "fig, axs = plt.subplots(2, 4)\n",
    "\n",
    "for i in range(len(polarizations)):\n",
    "    pol.plot_polarization_ellipse(axs[0,i], polarizations[i])\n",
    "    pol.plot_polarization_ellipse(axs[1,i], realized_analyzer_states[i])\n",
    "    \n",
    "fig.suptitle('Desired (top) vs. realized (bottom) polarization analyzer states')"
   ]
  },
  {
   "cell_type": "markdown",
   "metadata": {},
   "source": [
    "We can also extract the diattenuation from the Mueller matrices."
   ]
  },
  {
   "cell_type": "code",
   "execution_count": 11,
   "metadata": {},
   "outputs": [
    {
     "data": {
      "text/plain": [
       "[0.9999999993233868,\n",
       " 0.9999999953599483,\n",
       " 0.9999999990622025,\n",
       " 0.9999999971248837]"
      ]
     },
     "execution_count": 11,
     "metadata": {},
     "output_type": "execute_result"
    }
   ],
   "source": [
    "diattenuation = [np.sqrt(mueller[0,1]**2+mueller[0,2]**2+mueller[0,3]**2)/mueller[0,0] for mueller in mueller_matrices]\n",
    "diattenuation"
   ]
  },
  {
   "cell_type": "markdown",
   "metadata": {},
   "source": [
    "### Creating a CAD version of the grating"
   ]
  },
  {
   "cell_type": "markdown",
   "metadata": {},
   "source": [
    "So far, the metasurface polarization grating has been described as a purely mathematical object. We haven't even made any reference in the design process to the wavelength of light being used.\n",
    "\n",
    "Next, as described in the paper, we find a best-fit physical implementation corresponding to the design by referring to a library of structures. I have included several such libraries of pillars simulated at different wavelengths as a part of this code library. If you need to generate a new one at a different wavelength using, e.g., Lumerical, feel free to ask me."
   ]
  },
  {
   "cell_type": "code",
   "execution_count": 12,
   "metadata": {},
   "outputs": [],
   "source": [
    "# location of pillar library to load\n",
    "# the example here is a library of TiO2 rectangles for use at 550 nm\n",
    "library_file = 'Pillar libraries\\\\550 nm TiO2\\\\library_550_lumerical_denser_2020_06.mat'\n",
    "library_dict = pg.load_simulation_library(library_file)\n",
    "\n",
    "# find the design by lookup table for the given library\n",
    "# you can specify a minimum size to use, so that your features are not too small for fabrication\n",
    "# N_offset acknowledges that the phase shifts found in optimization can be shifted up or down arbitrarily\n",
    "# N_offset different shifts are tried to find the best fit to the library\n",
    "# this step can take a little while if the grating is large\n",
    "# min_size is the minimum acceptable feature size in nm\n",
    "design = grating.get_unitcell_design_offset(library_dict,min_size=50,N_offset=1000)"
   ]
  },
  {
   "cell_type": "markdown",
   "metadata": {},
   "source": [
    "Next, we can actually write out the CAD to a <code>.gds</code> file."
   ]
  },
  {
   "cell_type": "code",
   "execution_count": 13,
   "metadata": {},
   "outputs": [
    {
     "data": {
      "text/plain": [
       "(<Figure size 432x288 with 1 Axes>,\n",
       " <Axes: title={'center': 'Grating design'}, xlabel='x (μm)', ylabel='y (μm)'>)"
      ]
     },
     "execution_count": 13,
     "metadata": {},
     "output_type": "execute_result"
    },
    {
     "data": {
      "image/png": "[encoded data removed]",
      "text/plain": [
       "<Figure size 432x288 with 1 Axes>"
      ]
     },
     "metadata": {
      "needs_background": "light"
     },
     "output_type": "display_data"
    }
   ],
   "source": [
    "size_x = 3100 # in microns\n",
    "size_y = 3100\n",
    "\n",
    "filename = 'test_gds.gds'\n",
    "\n",
    "# separation in microns between pillar elements\n",
    "# this is chosen in accordance with whatever the desired grating angle will be, as discussed above\n",
    "separation = 0.420\n",
    "\n",
    "# generate and save the CAD file as a .gds file\n",
    "# size_offset is a size subtracted from all dimensions, if desired, in nm\n",
    "# open the gds with, e.g., KLayout\n",
    "grating.get_cad(size_x, size_y, filename, design, separation, size_offset=0)\n",
    "\n",
    "grating.plot_design(design, separation)"
   ]
  }
 ],
 "metadata": {
  "kernelspec": {
   "display_name": "Python 3 (ipykernel)",
   "language": "python",
   "name": "python3"
  },
  "language_info": {
   "codemirror_mode": {
    "name": "ipython",
    "version": 3
   },
   "file_extension": ".py",
   "mimetype": "text/x-python",
   "name": "python",
   "nbconvert_exporter": "python",
   "pygments_lexer": "ipython3",
   "version": "3.9.7"
  }
 },
 "nbformat": 4,
 "nbformat_minor": 2
}
